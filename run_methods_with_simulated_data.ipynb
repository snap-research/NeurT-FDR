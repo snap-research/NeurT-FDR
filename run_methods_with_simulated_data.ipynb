{
 "cells": [
  {
   "cell_type": "markdown",
   "metadata": {},
   "source": [
    "# License\n",
    "\n",
    "Copyright Snap Inc. 2021. This sample code is made available by Snap Inc. for informational purposes only. \n",
    "No license, whether implied or otherwise, is granted in or to such code (including any rights to copy, modify, \n",
    "publish, distribute and/or commercialize such code), unless you have entered into a separate agreement for such rights. \n",
    "Such code is provided as-is, without warranty of any kind, express or implied, including any warranties of merchantability, \n",
    "title, fitness for a particular purpose, non-infringement, or that such code is free of defects, errors or viruses. \n",
    "In no event will Snap Inc. be liable for any damages or losses of any kind arising from the sample code or your use thereof."
   ]
  },
  {
   "cell_type": "markdown",
   "metadata": {},
   "source": [
    "# Run all methods with simulated data"
   ]
  },
  {
   "cell_type": "markdown",
   "metadata": {},
   "source": [
    "## Imports"
   ]
  },
  {
   "cell_type": "code",
   "execution_count": null,
   "metadata": {
    "ExecuteTime": {
     "end_time": "2021-01-08T02:06:16.532054Z",
     "start_time": "2021-01-08T02:06:15.859798Z"
    }
   },
   "outputs": [],
   "source": [
    "import numpy as np\n",
    "import matplotlib.pyplot as plt\n",
    "import pandas as pd\n",
    "import pickle\n",
    "\n",
    "%matplotlib inline\n",
    "%load_ext autoreload\n",
    "%autoreload 2"
   ]
  },
  {
   "cell_type": "markdown",
   "metadata": {},
   "source": [
    "## Data parameters"
   ]
  },
  {
   "cell_type": "code",
   "execution_count": null,
   "metadata": {
    "ExecuteTime": {
     "end_time": "2021-01-08T02:06:16.557295Z",
     "start_time": "2021-01-08T02:06:16.534165Z"
    }
   },
   "outputs": [],
   "source": [
    "data_path = 'data/simulation'\n",
    "data_name = 'continous_nonlinear'\n",
    "\n",
    "input_folder = data_path + '/' + data_name"
   ]
  },
  {
   "cell_type": "markdown",
   "metadata": {},
   "source": [
    "## Run methods"
   ]
  },
  {
   "cell_type": "code",
   "execution_count": null,
   "metadata": {
    "ExecuteTime": {
     "end_time": "2021-01-08T02:08:23.792076Z",
     "start_time": "2021-01-08T02:06:16.559334Z"
    },
    "scrolled": true
   },
   "outputs": [],
   "source": [
    "%run simulation_analysis.py -i $input_folder -d $data_name"
   ]
  },
  {
   "cell_type": "markdown",
   "metadata": {},
   "source": [
    "## Analyze results"
   ]
  },
  {
   "cell_type": "code",
   "execution_count": null,
   "metadata": {
    "ExecuteTime": {
     "end_time": "2021-01-08T02:16:37.869439Z",
     "start_time": "2021-01-08T02:16:37.826252Z"
    }
   },
   "outputs": [],
   "source": [
    "alpha_list = [0.05, 0.1,0.15,0.2]\n",
    "n_data = 10\n",
    "summary_stats = {}\n",
    "# Python methods\n",
    "result_path_py = './temp_' + data_name + '_ws/res_' + data_name + '/result.pickle'\n",
    "with open(result_path_py, 'rb') as fil:\n",
    "    result_py = pickle.load(fil)\n",
    "for method in result_py.keys():\n",
    "    if len(result_py[method])>0:\n",
    "        summary_stats[method] = {}\n",
    "        summary_stats[method]['FDP'] = np.zeros([n_data, len(alpha_list)])\n",
    "        summary_stats[method]['Power'] = np.zeros([n_data, len(alpha_list)])\n",
    "    else:\n",
    "        continue\n",
    "    for fdp,power,alpha,dname in result_py[method]:\n",
    "       \n",
    "        summary_stats[method]['FDP'][int(dname[-1]), alpha_list.index(alpha)] = fdp\n",
    "        summary_stats[method]['Power'][int(dname[-1]), alpha_list.index(alpha)] = power    "
   ]
  },
  {
   "cell_type": "code",
   "execution_count": null,
   "metadata": {
    "ExecuteTime": {
     "end_time": "2021-01-08T02:16:38.795771Z",
     "start_time": "2021-01-08T02:16:37.991913Z"
    }
   },
   "outputs": [],
   "source": [
    "marker_list = ['o', 'v', 'p', '^', '*', 'h']\n",
    "color_list = ['C3','C1', 'C2', 'C4', 'C0', 'C5']\n",
    "method_list = ['neurtfdra', 'neurtfdrb', 'adafdr', 'bbfdr', 'sbh', 'bh']\n",
    "alpha_list = [0.05, 0.1,0.15,0.2]\n",
    "n_data = 10\n",
    "\n",
    "# FDP\n",
    "plt.figure(figsize = [6, 5], dpi=300)\n",
    "for i_method,method in enumerate(method_list):\n",
    "    if method in summary_stats.keys():\n",
    "        y_val = np.mean(summary_stats[method]['FDP'], axis=0)\n",
    "        y_err = np.std(summary_stats[method]['FDP'], axis=0) / np.sqrt(n_data) * 1.96\n",
    "        plt.errorbar(alpha_list, y_val, yerr=y_err, label=method,\\\n",
    "                     capsize=4, elinewidth = 1.5, linewidth=1.5,\\\n",
    "                     color = color_list[i_method], marker = marker_list[i_method],\\\n",
    "                     markersize = 6, alpha=0.8)\n",
    "x_min, x_max = plt.xlim()\n",
    "y_min, y_max = plt.ylim()\n",
    "axis_min = min(x_min, y_min)\n",
    "axis_max = max(x_max, y_max)\n",
    "plt.plot([axis_min, axis_max], [axis_min, axis_max], linestyle='--', color='k')\n",
    "plt.legend(loc=2, fontsize=12)\n",
    "plt.ylabel('FDP', fontsize=16)\n",
    "plt.xlabel('nominal FDR', fontsize=16)\n",
    "plt.show()\n",
    "\n",
    "# Power \n",
    "plt.figure(figsize = [6, 5], dpi=300)\n",
    "for i_method,method in enumerate(method_list):\n",
    "    if method in summary_stats.keys():\n",
    "        y_val = np.mean(summary_stats[method]['Power'], axis=0)\n",
    "        y_err = np.std(summary_stats[method]['Power'], axis=0) / np.sqrt(n_data) * 1.96\n",
    "        plt.errorbar(alpha_list, y_val, yerr=y_err, label=method,\\\n",
    "                     capsize=4, elinewidth = 1.5, linewidth=1.5,\\\n",
    "                     color = color_list[i_method], marker = marker_list[i_method],\\\n",
    "                     markersize = 6, alpha=0.8)\n",
    "plt.legend(loc=2, fontsize=12)\n",
    "plt.ylabel('power', fontsize=16)\n",
    "plt.xlabel('nominal FDR', fontsize=16)\n",
    "plt.show()"
   ]
  }
 ],
 "metadata": {
  "kernelspec": {
   "display_name": "Python 3",
   "language": "python",
   "name": "python3"
  },
  "language_info": {
   "codemirror_mode": {
    "name": "ipython",
    "version": 3
   },
   "file_extension": ".py",
   "mimetype": "text/x-python",
   "name": "python",
   "nbconvert_exporter": "python",
   "pygments_lexer": "ipython3",
   "version": "3.7.5"
  },
  "toc": {
   "base_numbering": 1,
   "nav_menu": {},
   "number_sections": true,
   "sideBar": true,
   "skip_h1_title": false,
   "title_cell": "Table of Contents",
   "title_sidebar": "Contents",
   "toc_cell": false,
   "toc_position": {},
   "toc_section_display": true,
   "toc_window_display": false
  }
 },
 "nbformat": 4,
 "nbformat_minor": 4
}
